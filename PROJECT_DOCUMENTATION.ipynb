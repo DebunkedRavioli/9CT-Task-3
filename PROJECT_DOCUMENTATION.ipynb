{
 "cells": [
  {
   "cell_type": "markdown",
   "id": "6e7aacd2",
   "metadata": {},
   "source": [
    "Requirements Outline \n",
    "\n"
   ]
  },
  {
   "cell_type": "markdown",
   "id": "284ebcff",
   "metadata": {},
   "source": [
    "Functional Requirements - "
   ]
  }
 ],
 "metadata": {
  "language_info": {
   "name": "python"
  }
 },
 "nbformat": 4,
 "nbformat_minor": 5
}
